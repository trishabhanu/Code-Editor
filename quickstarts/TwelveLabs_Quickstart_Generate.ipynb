{
  "cells": [
    {
      "cell_type": "markdown",
      "metadata": {
        "id": "view-in-github",
        "colab_type": "text"
      },
      "source": [
        "<a href=\"https://colab.research.google.com/github/trishabhanu/Code-Editor/blob/main/quickstarts/TwelveLabs_Quickstart_Generate.ipynb\" target=\"_parent\"><img src=\"https://colab.research.google.com/assets/colab-badge.svg\" alt=\"Open In Colab\"/></a>"
      ]
    },
    {
      "cell_type": "markdown",
      "metadata": {
        "id": "LcFAkSKdxM-T"
      },
      "source": [
        "<table align=\"left\">\n",
        "  <td>\n",
        "    <a target=\"_blank\" href=\"https://colab.research.google.com/github/twelvelabs-io/twelvelabs-developer-experience/blob/main/quickstarts/TwelveLabs_Quickstart_Generate.ipynb\"><img src=\"https://www.tensorflow.org/images/colab_logo_32px.png\" />Run in  Colab</a>\n",
        "  </td>\n",
        "</table>"
      ]
    },
    {
      "cell_type": "markdown",
      "metadata": {
        "id": "VmpYRcFNT30r"
      },
      "source": [
        "# Generate text from videos\n",
        "This guide shows how to utilize the TwelveLabs Python SDK to generate summaries, chapters, and highlights from videos.\n",
        "\n",
        "Note that the Generate API suite offers three distinct endpoints tailored to meet various requirements. Each endpoint has been designed with specific levels of flexibility and customization to accommodate different needs.\n",
        "\n",
        "- `/gist`: Generates titles, topics, and hashtags.\n",
        "- `/summarize`: Generates summaries, chapters, and highlights.\n",
        "- `/generate`: Generates open-ended texts.\n",
        "\n",
        "For details, see the [Generate text from video](https://docs.twelvelabs.io/docs/generate-text-from-video) page."
      ]
    },
    {
      "cell_type": "markdown",
      "metadata": {
        "id": "R1NBagEr9BKL"
      },
      "source": [
        "# Prerequisites\n",
        "Before you begin, ensure the following prerequisites are met:\n",
        "\n",
        "- [Sign up](https://playground.twelvelabs.io/) for a free account and obtain your API key from the [API Key](https://playground.twelvelabs.io/dashboard/api-key) page. No credit card is required to use the Free plan. This plan allows you to index up to 600 minutes of videos, which is sufficient for a small project.\n",
        "- The videos you wish to upload must meet the requirements in the [Prerequisites](https://docs.twelvelabs.io/docs/upload-single-videos#prerequisites) section of the **Upload single videos** page.\n",
        "\n"
      ]
    },
    {
      "cell_type": "markdown",
      "metadata": {
        "id": "VJZVk5Vw9BKM"
      },
      "source": [
        "# Procedure"
      ]
    },
    {
      "cell_type": "markdown",
      "metadata": {
        "id": "_Pngqd6-9BKM"
      },
      "source": [
        "## Install the TwelveLabs Python SDK"
      ]
    },
    {
      "cell_type": "code",
      "execution_count": 10,
      "metadata": {
        "id": "iwuRYTBI9BKN"
      },
      "outputs": [],
      "source": [
        "%pip install -U -q twelvelabs"
      ]
    },
    {
      "cell_type": "markdown",
      "metadata": {
        "id": "jXUlAzfG9BKP"
      },
      "source": [
        "## Import the required packages"
      ]
    },
    {
      "cell_type": "code",
      "execution_count": 11,
      "metadata": {
        "id": "LzF2yqTU9BKQ"
      },
      "outputs": [],
      "source": [
        "import os\n",
        "from glob import glob\n",
        "from twelvelabs import TwelveLabs\n",
        "from twelvelabs.models.task import Task"
      ]
    },
    {
      "cell_type": "markdown",
      "metadata": {
        "id": "LFCDHMI29BKR"
      },
      "source": [
        "## Configure your API key\n"
      ]
    },
    {
      "cell_type": "code",
      "execution_count": 12,
      "metadata": {
        "id": "5vs2Oz4c9BKR"
      },
      "outputs": [],
      "source": [
        "# For Google Colab, store your API key as a Secret named `TL_API_KEY`. If you don't know how to create a Colab Secret, see https://medium.com/@parthdasawant/how-to-use-secrets-in-google-colab-450c38e3ec75.\n",
        "\n",
        "from google.colab import userdata\n",
        "TL_API_KEY = userdata.get('TL_API_KEY')\n",
        "\n",
        "# For other Python environments, you can use environment variables\n",
        "# TL_API_KEY = os.environ.get('TL_API_KEY')"
      ]
    },
    {
      "cell_type": "markdown",
      "metadata": {
        "id": "9EK0kIFm9BKS"
      },
      "source": [
        "## Create an index\n",
        "\n",
        "An index is a basic unit for organizing and storing video data consisting of video embeddings and metadata. Indexes facilitate information retrieval and processing.\n",
        "\n",
        "When creating a new index, you must specify at least the following information:\n",
        "- **Name**: Use a brief and descriptive name to facilitate future reference and management.\n",
        "- **Model configuration**: Provide a list containing the video understanding models and the associated model options you want to enable.\n",
        "\n",
        "TwelveLabs provides two distinct model types:\n",
        "\n",
        "- **Embedding models (Marengo)**: This model performs tasks such as search and embedding generation , enabling enhanced video understanding.\n",
        "- **Generative models (Pegasus)**: This model generates text based on your videos.\n",
        "\n",
        "Model options determine what information the video understanding model will process:\n",
        "- **visual**: Analyzes visual content, including actions, objects, events, text (OCR), and brand logos.\n",
        "- **audio**: Analyzes audio content, including ambient sounds and human speech."
      ]
    },
    {
      "cell_type": "code",
      "execution_count": 14,
      "metadata": {
        "id": "u_xp_IvA9BKS",
        "outputId": "cddd1a2b-6a0b-4c60-a2aa-f3d509db4b5a",
        "colab": {
          "base_uri": "https://localhost:8080/"
        }
      },
      "outputs": [
        {
          "output_type": "stream",
          "name": "stdout",
          "text": [
            "Created index: id=682625a97e5c903c4f670093 name=Temp-3 models=root=[Model(name='pegasus1.2', options=['visual', 'audio'], addons=None, finetuned=False)]\n"
          ]
        }
      ],
      "source": [
        "client = TwelveLabs(api_key=TL_API_KEY)\n",
        "\n",
        "index = client.index.create(\n",
        "    name=\"Temp-3\",\n",
        "    models=[\n",
        "        {\n",
        "            \"name\": \"pegasus1.2\",\n",
        "            \"options\": [\"visual\", \"audio\"],\n",
        "        }\n",
        "    ]\n",
        ")\n",
        "print(f\"Created index: id={index.id} name={index.name} models={index.models}\")\n"
      ]
    },
    {
      "cell_type": "markdown",
      "metadata": {
        "id": "eHnDJgQR9BKT"
      },
      "source": [
        "## Upload videos to your index"
      ]
    },
    {
      "cell_type": "code",
      "execution_count": 16,
      "metadata": {
        "id": "I0fKOEK89BKT",
        "outputId": "aa7c6a38-deca-4831-a8fc-a2b7b3b7b90f",
        "colab": {
          "base_uri": "https://localhost:8080/"
        }
      },
      "outputs": [
        {
          "output_type": "stream",
          "name": "stdout",
          "text": [
            "Uploading 7-sec-test-video_11.mp4\n",
            "Created task: id=682625cfa1ad1e4e3b232017\n",
            "  Status=ready\n",
            "Uploaded 7-sec-test-video_11.mp4. The unique identifer of your video is 682625cfa1ad1e4e3b232017.\n"
          ]
        }
      ],
      "source": [
        "# The path to the directory containing the videos you wish to upload.\n",
        "VIDEO_PATH = \"7-sec-test-video_11.mp4\"  # In a colab Notebook, just upload the file in the root folder and just give the filename.\n",
        "\n",
        "video_files = glob(VIDEO_PATH)\n",
        "if(len(video_files)==0):\n",
        "  raise Exception(\"Video file was not provided\")\n",
        "for video_file in video_files:\n",
        "  print(f\"Uploading {video_file}\")\n",
        "  task = client.task.create(index_id=index.id, file=video_file)\n",
        "  print(f\"Created task: id={task.id}\")\n",
        "\n",
        "  # (Optional) Monitor the video indexing process\n",
        "  # Utility function to print the status of a video indexing task\n",
        "  def on_task_update(task: Task):\n",
        "          print(f\"  Status={task.status}\")\n",
        "  task.wait_for_done(sleep_interval=50, callback=on_task_update)\n",
        "  if task.status != \"ready\":\n",
        "      raise RuntimeError(f\"Indexing failed with status {task.status}\")\n",
        "  print(f\"Uploaded {video_file}. The unique identifer of your video is {task.video_id}.\")\n"
      ]
    },
    {
      "cell_type": "markdown",
      "metadata": {
        "id": "qNhC07lCYGHg"
      },
      "source": [
        "## Generate text\n",
        "\n",
        "The code below iterates through all videos in your index, generating and displaying summaries, chapters, and highlights for each video. Additionally, it creates SEO keywords using a custom prompt."
      ]
    },
    {
      "cell_type": "code",
      "execution_count": 17,
      "metadata": {
        "colab": {
          "base_uri": "https://localhost:8080/"
        },
        "id": "SeGb7DSpYHjT",
        "outputId": "1fe7d1ce-beab-495c-db60-0d93670daba1"
      },
      "outputs": [
        {
          "output_type": "stream",
          "name": "stdout",
          "text": [
            "Generating text for 682625cfa1ad1e4e3b232017\n",
            "Summary: The video captures a seamless and efficient operation within a manufacturing facility, focusing on the process of filling aluminum cans with a white liquid. The scene opens with a robotic arm meticulously dispensing the liquid into each can as they move along a conveyor belt. The camera's stationary position allows for a clear and uninterrupted view of the robotic arm's precision and the steady flow of cans. The liquid, which appears to be a type of beverage or product, is poured with consistent accuracy, ensuring that each can receives the appropriate amount.\n",
            "As the process continues, the last can in the sequence moves out of the frame to the right, and the camera subtly shifts to the left, catching the final moments of the robotic arm's operation. Here, a few residual droplets fall from the nozzle, a minor detail that underscores the mechanical nature of the process and the slight imperfections that can occur even in highly automated systems. This brief shift in the camera's angle adds a dynamic element to the otherwise static shot, highlighting the continuous and rhythmic nature of the production line.\n",
            "The video, likely intended to showcase the efficiency and automation of the manufacturing process, provides a glimpse into the modern techniques used in production facilities. The focus on the robotic arm and the conveyor belt emphasizes the technological advancements that have streamlined such operations, reducing human error and increasing productivity. The overall tone of the video is one of precision and reliability, reflecting the creator's intent to demonstrate the capabilities of automated systems in industrial settings.\n",
            "Chapters:\n",
            "  chapter_number=0 chapter_title=Robotic Arm Dispensing Liquid chapter_summary=A robotic arm dispenses a white liquid into aluminum cans moving along a conveyor belt. The camera remains stationary until the last can moves out of frame, then it slightly follows the motion to the left before cutting off. start=0.0 end=8.0\n",
            "Highlights:\n",
            "  Highlight=Robotic Arm Filling Cans start=0.0 end=8.0\n",
            "Open-ended Text: Based on the video content, here are five potential keywords for SEO:\n",
            "\n",
            "1. **Automated Can Filling** - This keyword highlights the primary action of a robotic arm filling aluminum cans.\n",
            "2. **Industrial Automation** - This term emphasizes the technological and automated nature of the process.\n",
            "3. **Manufacturing Process** - This keyword captures the broader context of the manufacturing operation being shown.\n",
            "4. **Efficient Production** - This term suggests the efficiency and speed of the automated can-filling process.\n",
            "5. **Packaging Equipment** - This keyword targets those interested in the machinery used in packaging industries.\n"
          ]
        }
      ],
      "source": [
        "#Get all videos in an Index\n",
        "videos = client.index.video.list(index.id)\n",
        "for video in videos:\n",
        "    print(f\"Generating text for {video.id}\")\n",
        "\n",
        "    res = client.generate.summarize(video_id=video.id, type=\"summary\")\n",
        "    print(f\"Summary: {res.summary}\")\n",
        "\n",
        "    print(\"Chapters:\")\n",
        "    res = client.generate.summarize(video_id=video.id, type=\"chapter\")\n",
        "    for chapter in res.chapters:\n",
        "        print(\n",
        "            f\"  chapter_number={chapter.chapter_number} chapter_title={chapter.chapter_title} chapter_summary={chapter.chapter_summary} start={chapter.start} end={chapter.end}\"\n",
        "        )\n",
        "\n",
        "    print(\"Highlights:\")\n",
        "    res = client.generate.summarize(video_id=video.id, type=\"highlight\")\n",
        "    for highlight in res.highlights:\n",
        "        print(\n",
        "            f\"  Highlight={highlight.highlight} start={highlight.start} end={highlight.end}\"\n",
        "        )\n",
        "\n",
        "    res = client.generate.text(video_id=video.id, prompt=\"Based on this video, I want to generate five keywords for SEO (Search Engine Optimization).\")\n",
        "    print(f\"Open-ended Text: {res.data}\")"
      ]
    }
  ],
  "metadata": {
    "colab": {
      "provenance": [],
      "include_colab_link": true
    },
    "kernelspec": {
      "display_name": "3.10.13",
      "language": "python",
      "name": "python3"
    },
    "language_info": {
      "codemirror_mode": {
        "name": "ipython",
        "version": 3
      },
      "file_extension": ".py",
      "mimetype": "text/x-python",
      "name": "python",
      "nbconvert_exporter": "python",
      "pygments_lexer": "ipython3",
      "version": "3.10.13"
    }
  },
  "nbformat": 4,
  "nbformat_minor": 0
}