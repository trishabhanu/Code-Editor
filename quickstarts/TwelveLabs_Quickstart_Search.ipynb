{
  "cells": [
    {
      "cell_type": "markdown",
      "metadata": {
        "id": "yMOpOuAtwwFo"
      },
      "source": [
        "<table align=\"left\">\n",
        "  <td>\n",
        "    <a target=\"_blank\" href=\"https://colab.research.google.com/github/twelvelabs-io/twelvelabs-developer-experience/blob/main/quickstarts/TwelveLabs_Quickstart_Search.ipynb\"><img src=\"https://www.tensorflow.org/images/colab_logo_32px.png\" />Run in  Colab</a>\n",
        "  </td>\n",
        "</table>"
      ]
    },
    {
      "cell_type": "markdown",
      "metadata": {
        "id": "VmpYRcFNT30r"
      },
      "source": [
        "# Search\n",
        "This guide shows how to utilize the TwelveLabs Python SDK for searching within your video content."
      ]
    },
    {
      "cell_type": "markdown",
      "metadata": {
        "id": "tz7bGw3k3WF4"
      },
      "source": [
        "# Prerequisites\n",
        "Before you begin, ensure the following prerequisites are met:\n",
        "\n",
        "- [Sign up](https://playground.twelvelabs.io/) for a free account and obtain your API key from the [API Key](https://playground.twelvelabs.io/dashboard/api-key) page. No credit card is required to use the Free plan. This plan allows you to index up to 600 minutes of videos, which is sufficient for a small project.\n",
        "- The videos you wish to upload must meet the requirements in the [Prerequisites](https://docs.twelvelabs.io/docs/upload-single-videos#prerequisites) section of the **Upload single videos page**.\n",
        "\n"
      ]
    },
    {
      "cell_type": "markdown",
      "metadata": {
        "id": "K1Rp4Jhb3WF4"
      },
      "source": [
        "# Procedure"
      ]
    },
    {
      "cell_type": "markdown",
      "metadata": {
        "id": "vWLhDnlM3WF4"
      },
      "source": [
        "## Install the TwelveLabs Python SDK"
      ]
    },
    {
      "cell_type": "code",
      "execution_count": 4,
      "metadata": {
        "id": "H_YLpwXD3WF5"
      },
      "outputs": [],
      "source": [
        "%pip install -U -q twelvelabs"
      ]
    },
    {
      "cell_type": "markdown",
      "metadata": {
        "id": "aRDNeRdm3WF5"
      },
      "source": [
        "## Import the required packages"
      ]
    },
    {
      "cell_type": "code",
      "execution_count": 5,
      "metadata": {
        "id": "d-XFYa-P3WF6"
      },
      "outputs": [],
      "source": [
        "import os\n",
        "from glob import glob\n",
        "from twelvelabs import TwelveLabs\n",
        "from twelvelabs.models.task import Task"
      ]
    },
    {
      "cell_type": "markdown",
      "metadata": {
        "id": "ynIALl8h3WF6"
      },
      "source": [
        "## Configure your API key\n"
      ]
    },
    {
      "cell_type": "code",
      "execution_count": 8,
      "metadata": {
        "id": "8u7uHivL3WF6"
      },
      "outputs": [],
      "source": [
        "# For Google Colab, store your API key as a Secret named `TL_API_KEY`. If you don't know how to create a Colab Secret, see https://medium.com/@parthdasawant/how-to-use-secrets-in-google-colab-450c38e3ec75.\n",
        "\n",
        "from google.colab import userdata\n",
        "TL_API_KEY = userdata.get('TL_API_KEY')\n",
        "\n",
        "# For other Python environments, you can use environment variables\n",
        "# TL_API_KEY = os.environ.get('TL_API_KEY')"
      ]
    },
    {
      "cell_type": "markdown",
      "metadata": {
        "id": "OecEwcjA3WF6"
      },
      "source": [
        "## Create an index\n",
        "\n",
        "An index is a basic unit for organizing and storing video data consisting of video embeddings and metadata. Indexes facilitate information retrieval and processing.\n",
        "\n",
        "When creating a new index, you must specify at least the following information:\n",
        "- **Name**: Use a brief and descriptive name to facilitate future reference and management.\n",
        "- **Model configuration**: Provide a list containing the video understanding models and the associated model options you want to enable.\n",
        "\n",
        "TwelveLabs provides two distinct model types:\n",
        "\n",
        "- **Embedding models (Marengo)**: This model performs tasks such as search and embedding generation , enabling enhanced video understanding.\n",
        "- **Generative models (Pegasus)**: This model generates text based on your videos.\n",
        "\n",
        "Model options determine what information the video understanding model will process:\n",
        "- **visual**: Analyzes visual content, including actions, objects, events, text (OCR), and brand logos.\n",
        "- **audio**: Analyzes audio content, including ambient sounds and human speech."
      ]
    },
    {
      "cell_type": "code",
      "execution_count": 9,
      "metadata": {
        "id": "nMQ0dWUm3WF6",
        "outputId": "64858a23-12db-43a1-bd17-435d624524ff",
        "colab": {
          "base_uri": "https://localhost:8080/"
        }
      },
      "outputs": [
        {
          "output_type": "stream",
          "name": "stdout",
          "text": [
            "Created index: id=68261cea7e5c903c4f66fc29 name=Temp-1 models=root=[Model(name='marengo2.7', options=['visual', 'audio'], addons=None, finetuned=False)]\n"
          ]
        }
      ],
      "source": [
        "client = TwelveLabs(api_key=TL_API_KEY)\n",
        "\n",
        "index = client.index.create(\n",
        "    name=\"Temp-1\",\n",
        "    models=[\n",
        "        {\n",
        "            \"name\": \"marengo2.7\",\n",
        "            \"options\": [\"visual\", \"audio\"],\n",
        "        }\n",
        "    ]\n",
        ")\n",
        "print(f\"Created index: id={index.id} name={index.name} models={index.models}\")\n"
      ]
    },
    {
      "cell_type": "markdown",
      "metadata": {
        "id": "23utMEAR3WF7"
      },
      "source": [
        "## Upload videos to your index"
      ]
    },
    {
      "cell_type": "code",
      "execution_count": 10,
      "metadata": {
        "id": "n0tUanFw3WF7",
        "outputId": "c463a398-9884-4a3a-bca3-3ea313e22df5",
        "colab": {
          "base_uri": "https://localhost:8080/"
        }
      },
      "outputs": [
        {
          "output_type": "stream",
          "name": "stdout",
          "text": [
            "Uploading video_12_labs.mp4\n",
            "Created task: id=68261d52cd88e73ccc6241e6\n",
            "  Status=indexing\n",
            "  Status=ready\n",
            "Uploaded video_12_labs.mp4. The unique identifer of your video is 68261d52cd88e73ccc6241e6.\n"
          ]
        }
      ],
      "source": [
        "# The path to the directory containing the videos you wish to upload.\n",
        "VIDEO_PATH = \"video_12_labs.mp4\"  # In a colab Notebook, just upload the file in the root folder and just give the filename.\n",
        "\n",
        "video_files = glob(VIDEO_PATH)\n",
        "if(len(video_files)==0):\n",
        "  raise Exception(\"Video file was not provided\")\n",
        "for video_file in video_files:\n",
        "  print(f\"Uploading {video_file}\")\n",
        "  task = client.task.create(index_id=index.id, file=video_file)\n",
        "  print(f\"Created task: id={task.id}\")\n",
        "\n",
        "  # (Optional) Monitor the video indexing process\n",
        "  # Utility function to print the status of a video indexing task\n",
        "  def on_task_update(task: Task):\n",
        "          print(f\"  Status={task.status}\")\n",
        "  task.wait_for_done(sleep_interval=50, callback=on_task_update)\n",
        "  if task.status != \"ready\":\n",
        "      raise RuntimeError(f\"Indexing failed with status {task.status}\")\n",
        "  print(f\"Uploaded {video_file}. The unique identifer of your video is {task.video_id}.\")\n"
      ]
    },
    {
      "cell_type": "markdown",
      "metadata": {
        "id": "LlvAn7e63WF7"
      },
      "source": [
        "## Perform searches"
      ]
    },
    {
      "cell_type": "markdown",
      "metadata": {
        "id": "k2en9HoI3WF7"
      },
      "source": [
        "**Using text queries**:"
      ]
    },
    {
      "cell_type": "code",
      "execution_count": 11,
      "metadata": {
        "id": "B2J2Akmu3WF7",
        "outputId": "58ed36b0-bb8e-4d18-f258-56af4f1efbc1",
        "colab": {
          "base_uri": "https://localhost:8080/"
        }
      },
      "outputs": [
        {
          "output_type": "stream",
          "name": "stdout",
          "text": [
            " video_id=68261d52cd88e73ccc6241e6 score=84.49 start=0.0 end=8.438888804 confidence=high\n",
            " video_id=68261d52cd88e73ccc6241e6 score=84.26 start=67.066665996 end=83.466665832 confidence=high\n",
            " video_id=68261d52cd88e73ccc6241e6 score=84.18 start=8.438888804 end=16.877777608 confidence=high\n",
            " video_id=68261d52cd88e73ccc6241e6 score=83.93 start=16.877777608 end=42.19444402 confidence=high\n",
            " video_id=68261d52cd88e73ccc6241e6 score=83.93 start=230.255553253 end=278.655552769 confidence=high\n",
            " video_id=68261d52cd88e73ccc6241e6 score=83.92 start=58.866666078 end=67.066665996 confidence=high\n",
            " video_id=68261d52cd88e73ccc6241e6 score=83.91 start=101.99999898 end=107.166665595 confidence=high\n",
            " video_id=68261d52cd88e73ccc6241e6 score=83.9 start=287.633330457 end=294.576665278 confidence=high\n",
            " video_id=68261d52cd88e73ccc6241e6 score=83.77 start=83.499999165 end=101.966665647 confidence=high\n",
            " video_id=68261d52cd88e73ccc6241e6 score=83.65 start=215.833331175 end=230.255553253 confidence=high\n",
            " video_id=68261d52cd88e73ccc6241e6 score=83.61 start=107.199998928 end=137.499998625 confidence=high\n",
            " video_id=68261d52cd88e73ccc6241e6 score=83.57 start=42.19444402 end=58.866666078 confidence=high\n",
            " video_id=68261d52cd88e73ccc6241e6 score=83.54 start=294.576665278 end=301.0 confidence=high\n",
            " video_id=68261d52cd88e73ccc6241e6 score=83.39 start=137.499998625 end=151.033331823 confidence=high\n",
            " video_id=68261d52cd88e73ccc6241e6 score=83.38 start=170.533331628 end=193.366664733 confidence=high\n",
            " video_id=68261d52cd88e73ccc6241e6 score=83.3 start=193.399998066 end=215.799997842 confidence=high\n",
            " video_id=68261d52cd88e73ccc6241e6 score=83.17 start=278.655552769 end=287.599997124 confidence=high\n",
            " video_id=68261d52cd88e73ccc6241e6 score=82.44 start=151.066665156 end=170.499998295 confidence=medium\n"
          ]
        }
      ],
      "source": [
        "# Search Query\n",
        "search_results = client.search.query(index_id=index.id, query_text=\"who is the Graphic Designer\", options=[\"visual\", \"audio\"])\n",
        "\n",
        "# Utility function to print a specific page\n",
        "def print_page(page):\n",
        "  for clip in page:\n",
        "    print(\n",
        "        f\" video_id={clip.video_id} score={clip.score} start={clip.start} end={clip.end} confidence={clip.confidence}\"\n",
        "    )\n",
        "print_page(search_results.data)\n",
        "while True:\n",
        "    try:\n",
        "        print_page(next(search_results))\n",
        "    except StopIteration:\n",
        "        break"
      ]
    },
    {
      "cell_type": "markdown",
      "metadata": {
        "id": "CaNZHw8a3WF8"
      },
      "source": [
        "**Using image queries**"
      ]
    },
    {
      "cell_type": "code",
      "execution_count": 12,
      "metadata": {
        "id": "Ls4occqW3WF8",
        "outputId": "033272ad-dbfc-40b5-a03d-efa9d39d2954",
        "colab": {
          "base_uri": "https://localhost:8080/"
        }
      },
      "outputs": [
        {
          "output_type": "stream",
          "name": "stdout",
          "text": [
            " video_id=68261d52cd88e73ccc6241e6 score=86.55 start=151.066665156 end=170.499998295 confidence=high\n",
            " video_id=68261d52cd88e73ccc6241e6 score=85.27 start=137.499998625 end=151.033331823 confidence=high\n",
            " video_id=68261d52cd88e73ccc6241e6 score=85.27 start=215.833331175 end=237.466664292 confidence=high\n",
            " video_id=68261d52cd88e73ccc6241e6 score=84.75 start=170.533331628 end=215.799997842 confidence=high\n",
            " video_id=68261d52cd88e73ccc6241e6 score=84.42 start=107.199998928 end=137.499998625 confidence=high\n",
            " video_id=68261d52cd88e73ccc6241e6 score=84.35 start=58.866666078 end=101.966665647 confidence=high\n",
            " video_id=68261d52cd88e73ccc6241e6 score=84.32 start=237.499997625 end=260.733330726 confidence=high\n",
            " video_id=68261d52cd88e73ccc6241e6 score=84.05 start=8.438888804 end=58.866666078 confidence=high\n",
            " video_id=68261d52cd88e73ccc6241e6 score=83.28 start=0.0 end=8.438888804 confidence=high\n",
            " video_id=68261d52cd88e73ccc6241e6 score=83.27 start=260.766664059 end=287.599997124 confidence=high\n",
            " video_id=68261d52cd88e73ccc6241e6 score=83.26 start=101.99999898 end=107.166665595 confidence=high\n",
            " video_id=68261d52cd88e73ccc6241e6 score=76.36 start=287.633330457 end=301.0 confidence=medium\n"
          ]
        }
      ],
      "source": [
        "search_results = client.search.query(\n",
        "    index_id=index.id,\n",
        "    query_media_type=\"image\",\n",
        "    query_media_file=\"Test_image.png\", # Use query_media_url instead to provide a file from a publicly accessible URL.\n",
        "    options=[\"visual\"]\n",
        ")\n",
        "\n",
        "# Utility function to print a specific page\n",
        "def print_page(page):\n",
        "  for clip in page:\n",
        "    print(\n",
        "        f\" video_id={clip.video_id} score={clip.score} start={clip.start} end={clip.end} confidence={clip.confidence}\"\n",
        "    )\n",
        "\n",
        "print_page(search_results.data)\n",
        "\n",
        "while True:\n",
        "    try:\n",
        "        print_page(next(search_results))\n",
        "    except StopIteration:\n",
        "        break"
      ]
    },
    {
      "cell_type": "markdown",
      "metadata": {
        "id": "PQ-gihrzrsm7"
      },
      "source": []
    }
  ],
  "metadata": {
    "colab": {
      "provenance": []
    },
    "kernelspec": {
      "display_name": "3.10.13",
      "language": "python",
      "name": "python3"
    },
    "language_info": {
      "codemirror_mode": {
        "name": "ipython",
        "version": 3
      },
      "file_extension": ".py",
      "mimetype": "text/x-python",
      "name": "python",
      "nbconvert_exporter": "python",
      "pygments_lexer": "ipython3",
      "version": "3.10.13"
    }
  },
  "nbformat": 4,
  "nbformat_minor": 0
}